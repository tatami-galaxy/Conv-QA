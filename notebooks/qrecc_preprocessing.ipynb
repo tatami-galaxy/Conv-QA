{
 "cells": [
  {
   "cell_type": "code",
   "execution_count": null,
   "metadata": {
    "colab": {
     "base_uri": "https://localhost:8080/"
    },
    "id": "PP_-d2m86zRN",
    "outputId": "dee7432b-9ebe-4d83-ff31-c22f22cd1615"
   },
   "outputs": [
    {
     "name": "stdout",
     "output_type": "stream",
     "text": [
      "Mounted at /content/drive\n"
     ]
    }
   ],
   "source": [
    "from google.colab import drive\n",
    "drive.mount('/content/drive')"
   ]
  },
  {
   "cell_type": "code",
   "execution_count": null,
   "metadata": {
    "colab": {
     "base_uri": "https://localhost:8080/"
    },
    "id": "zbpPMuJGoPZF",
    "outputId": "af00bdc9-b099-45eb-d378-9ebcf312a6e6"
   },
   "outputs": [
    {
     "name": "stdout",
     "output_type": "stream",
     "text": [
      "Collecting nltk==3.4\n",
      "  Downloading nltk-3.4.zip (1.4 MB)\n",
      "\u001b[K     |████████████████████████████████| 1.4 MB 4.2 MB/s \n",
      "\u001b[?25hRequirement already satisfied: six in /usr/local/lib/python3.7/dist-packages (from nltk==3.4) (1.15.0)\n",
      "Collecting singledispatch\n",
      "  Downloading singledispatch-3.7.0-py2.py3-none-any.whl (9.2 kB)\n",
      "Building wheels for collected packages: nltk\n",
      "  Building wheel for nltk (setup.py) ... \u001b[?25l\u001b[?25hdone\n",
      "  Created wheel for nltk: filename=nltk-3.4-py3-none-any.whl size=1436395 sha256=61cfbaa3445ffc42e68afb96f516f99ecdb5ac5065d1050e9c448f31708be263\n",
      "  Stored in directory: /root/.cache/pip/wheels/13/b8/81/2349be11dd144dc7b68ab983b58cd2fae353cdc50bbdeb09d0\n",
      "Successfully built nltk\n",
      "Installing collected packages: singledispatch, nltk\n",
      "  Attempting uninstall: nltk\n",
      "    Found existing installation: nltk 3.2.5\n",
      "    Uninstalling nltk-3.2.5:\n",
      "      Successfully uninstalled nltk-3.2.5\n",
      "Successfully installed nltk-3.4 singledispatch-3.7.0\n"
     ]
    }
   ],
   "source": [
    "pip install nltk==3.4"
   ]
  },
  {
   "cell_type": "code",
   "execution_count": null,
   "metadata": {
    "id": "bk2PM0jm65MU"
   },
   "outputs": [],
   "source": [
    "import json\n",
    "import string\n",
    "import re\n",
    "from nltk import ngrams\n",
    "import collections\n",
    "from typing import List"
   ]
  },
  {
   "cell_type": "code",
   "execution_count": null,
   "metadata": {
    "id": "Lt5XdP7-JMgG"
   },
   "outputs": [],
   "source": [
    "def normalize_answer(s: str) -> str:\n",
    "  \"\"\"Lower text and remove punctuation, articles and extra whitespace.\"\"\"\n",
    "\n",
    "  def remove_articles(text):\n",
    "    regex = re.compile(r'\\b(a|an|the)\\b', re.UNICODE)\n",
    "    return re.sub(regex, ' ', text)\n",
    "\n",
    "  def white_space_fix(text):\n",
    "    return ' '.join(text.split())\n",
    "\n",
    "  def remove_punc(text):\n",
    "    exclude = set(string.punctuation)\n",
    "    return ''.join(ch for ch in text if ch not in exclude)\n",
    "\n",
    "  def lower(text):\n",
    "    return text.lower()\n",
    "\n",
    "  return white_space_fix(remove_articles(remove_punc(lower(s))))"
   ]
  },
  {
   "cell_type": "code",
   "execution_count": null,
   "metadata": {
    "id": "Kv7DAF-lYUTF"
   },
   "outputs": [],
   "source": [
    "def compute_f1_from_tokens(gold_toks: List[str], pred_toks: List[str]) -> float:\n",
    "  common = collections.Counter(gold_toks) & collections.Counter(pred_toks)\n",
    "  num_same = sum(common.values())\n",
    "\n",
    "  if len(gold_toks) == 0 or len(pred_toks) == 0:\n",
    "    # If either is no-answer, then F1 is 1 if they agree, 0 otherwise\n",
    "    return int(gold_toks == pred_toks)\n",
    "\n",
    "  if num_same == 0:\n",
    "    return 0\n",
    "\n",
    "  precision = 1.0 * num_same / len(pred_toks)\n",
    "  recall = 1.0 * num_same / len(gold_toks)\n",
    "  f1 = (2 * precision * recall) / (precision + recall)\n",
    "  return f1"
   ]
  },
  {
   "cell_type": "code",
   "execution_count": null,
   "metadata": {
    "id": "Yyo7DHGzI-UI"
   },
   "outputs": [],
   "source": [
    "paras = {}  # base_id -> [(p1, content1), (p2, content2)...]\n",
    "\n",
    "for i in range(4):\n",
    "  with open('/content/drive/MyDrive/Datasets/QReCC/collection_paragraph/wayback/'+str(i)+'.jsonl') as f:\n",
    "    for line in f:\n",
    "      p = json.loads(line)\n",
    "      contents = normalize_answer(p['contents'])\n",
    "      id = p['id']\n",
    "      base_id = '_'.join(id.split('web.archive')[1].split('_/')[1].split('_')[:-1])\n",
    "      tup = (id, contents)\n",
    "      if base_id in paras:\n",
    "        paras[base_id].append(tup)\n",
    "      else:\n",
    "        l = []\n",
    "        l.append(tup)\n",
    "        paras[base_id] = l"
   ]
  },
  {
   "cell_type": "code",
   "execution_count": null,
   "metadata": {
    "id": "o0TFiE6RJ1rQ"
   },
   "outputs": [],
   "source": [
    "def make_examples(path, d):\n",
    "\n",
    "  with open(path) as f:\n",
    "    data = json.load(f)\n",
    "    example_list = []\n",
    "\n",
    "    for example in data:\n",
    "      mod_example = {}\n",
    "      context = ' '.join(example['Context'])\n",
    "      context = normalize_answer(context)\n",
    "      question = normalize_answer(example['Question'])\n",
    "      rewrite = normalize_answer(example['Rewrite'])\n",
    "\n",
    "      answer = normalize_answer(example['Answer'])\n",
    "      n = len(answer.split())\n",
    "\n",
    "      url = example['Answer_URL']\n",
    "      if url == '' or url not in d: continue\n",
    "\n",
    "      score = -1\n",
    "      for tup in d[url]:\n",
    "        p = tup[1]\n",
    "        n_grams = ngrams(p.split(), n)  # breaking passage into ngrams\n",
    "        for gram in n_grams:\n",
    "          s = compute_f1_from_tokens(answer.split(), gram)\n",
    "          if s > score:\n",
    "            score = s\n",
    "            passage = p\n",
    "            f1_answer = ' '.join(gram)\n",
    "\n",
    "      if score >= 0.8:  # take example if it has an answer (relevant passage)\n",
    "        mod_example['f1_answer'] = f1_answer\n",
    "        mod_example['answer'] = answer\n",
    "      else:\n",
    "        mod_example['f1_answer'] = 'no_ans'\n",
    "        mod_example['answer'] = 'no_ans'\n",
    " \n",
    "      mod_example['context'] = context\n",
    "      mod_example['question'] = question\n",
    "      mod_example['rewrite'] = rewrite\n",
    "      #mod_example['answer'] = answer\n",
    "      mod_example['url'] = url\n",
    "      mod_example['passage'] = passage\n",
    "      mod_example['turn_no'] = example['Turn_no']\n",
    "      mod_example['conversation_no'] = example['Conversation_no']\n",
    "\n",
    "      example_list.append(mod_example)\n",
    "    \n",
    "    return example_list\n",
    "    \n",
    "qrecc = make_examples('/content/drive/MyDrive/Datasets/QReCC/qrecc_train.json', paras)\n",
    "qrecc_test = make_examples('/content/drive/MyDrive/Datasets/QReCC/qrecc_test.json', paras)"
   ]
  },
  {
   "cell_type": "code",
   "execution_count": null,
   "metadata": {
    "colab": {
     "base_uri": "https://localhost:8080/"
    },
    "id": "OAPSsPj5aOld",
    "outputId": "672cd7f7-0355-473b-a215-e4f83e3a396c"
   },
   "outputs": [
    {
     "data": {
      "text/plain": [
       "24037"
      ]
     },
     "execution_count": 8,
     "metadata": {},
     "output_type": "execute_result"
    }
   ],
   "source": [
    "len(qrecc)"
   ]
  },
  {
   "cell_type": "code",
   "execution_count": null,
   "metadata": {
    "colab": {
     "base_uri": "https://localhost:8080/"
    },
    "id": "n4yA0YLmHdAD",
    "outputId": "c297d3de-e755-4806-9472-d0dba0da352a"
   },
   "outputs": [
    {
     "data": {
      "text/plain": [
       "24037"
      ]
     },
     "execution_count": 8,
     "metadata": {},
     "output_type": "execute_result"
    }
   ],
   "source": [
    "len(qrecc)"
   ]
  },
  {
   "cell_type": "code",
   "execution_count": null,
   "metadata": {
    "colab": {
     "base_uri": "https://localhost:8080/"
    },
    "id": "566lPaWJDLUp",
    "outputId": "b569550c-4d09-4d49-807b-f7076812fdd2"
   },
   "outputs": [
    {
     "data": {
      "text/plain": [
       "{'answer': 'in interview with zone magazine m john harrison says i liked anything bizarre from about four years old i started on dan dare and worked up to absurdists',\n",
       " 'context': 'what was m john harrisons first novel committed men is m john harrisons first novel did m john harrison write in any other genre before writing science fiction in m john harrisons early years his hobbies included writing pastiches of h h munro how popular were m john harrisons first stories m john harrisons first short story was published during 1966 by kyril bonfiglioli at science fantasy magazine on strength of which he relocated to london',\n",
       " 'conversation_no': 215,\n",
       " 'f1_answer': 'in interview with zone magazine harrison says i liked anything bizarre from being about four years old i started on dan dare and worked up to absurdists at',\n",
       " 'passage': 'in interview with zone magazine harrison says i liked anything bizarre from being about four years old i started on dan dare and worked up to absurdists at 15 you could catch me with pile of books that contained alfred bester samuel beckett charles williams two or three available j g ballard s on road by jack kerouac some keats some allen ginsberg maybe thorne smith ive always been pick n mix now its philosophy 6 new wave science fiction movement edit from 1968 to 1975 he was literary editor of new wave science fiction magazine new worlds regularly contributing criticism he was important to new wave style which also included writers such as norman spinrad barrington bayley langdon jones and thomas m disch as reviewer for new worlds he often used pseudonym joyce churchill and was critical of many works and writers published using rubric of science fiction one of his critical pieces by tennyson out of disney was initially written for sword and sorcery magazine publication planned by kenneth bulmer but which was never published piece was printed in new worlds 2 amongst his works of that period are three stories utilising jerry cornelius character invented by michael moorcock these stories do not appear in any of harrisons own collections but do appear in nature of catastrophe and new nature of catastrophe other early stories published from 1966 featured in anthologies such as new writings in sf edited by john carnell and in magazines such as transatlantic review magazine of fantasy science fiction new worlds and quark',\n",
       " 'question': 'who influenced him as writer',\n",
       " 'rewrite': 'who influenced m john harrison as writer',\n",
       " 'turn_no': 4,\n",
       " 'url': 'https://en.wikipedia.org/wiki/M._John_Harrison'}"
      ]
     },
     "execution_count": 11,
     "metadata": {},
     "output_type": "execute_result"
    }
   ],
   "source": [
    "qrecc[600]"
   ]
  },
  {
   "cell_type": "code",
   "execution_count": null,
   "metadata": {
    "colab": {
     "base_uri": "https://localhost:8080/"
    },
    "id": "YxaDjalRIoB5",
    "outputId": "fa8df603-25c9-4a37-dc5f-0be91dd5a043"
   },
   "outputs": [
    {
     "data": {
      "text/plain": [
       "{'Answer': \"During that era, a single taken from 1988's OU812, When It's Love, reached the Top Five, peaking at No. 5. In addition, Van Halen was nominated for two Grammy Awards.\",\n",
       " 'Answer_URL': 'https://en.wikipedia.org/wiki/Van_Halen',\n",
       " 'Context': ['What can you tell me about Gary Cherone?',\n",
       "  'Gary Francis Caine Cherone is an American rock singer and songwriter, known for his work as the lead vocalist of Extreme and for his short stint for Van Halen.',\n",
       "  'Did Gary Cherone sing well?',\n",
       "  'Yes, Gary Cherone is also known for his work as the lead vocalist of the Boston rock group Extreme.',\n",
       "  'What significant fact can you tell me about Gary Cherone that you liked?',\n",
       "  'I like that Gary Cherone remained in contact and on good terms with Van Halen.',\n",
       "  'What did Gary Cherone do after Van Halen?',\n",
       "  'After his departure from Van Halen, Gary Cherone returned to Boston and put together a new project, Tribe of Judah.',\n",
       "  'Did they release any albums after Gary Cherone left?',\n",
       "  'After Gary Cherone, Eddie Van Halen recovered from his hip surgery in November 1999, and no official statements were made by Van Halen and no music was released.'],\n",
       " 'Conversation_no': 1,\n",
       " 'Question': 'What are some other interesting aspects of the article?',\n",
       " 'Rewrite': 'What are some other interesting aspects of the article?',\n",
       " 'Turn_no': 6,\n",
       " 'answer': 'during that era single taken from 1988s ou812 when its love reached top five peaking at no 5 in addition van halen was nominated for two grammy awards',\n",
       " 'context': 'what can you tell me about gary cherone gary francis caine cherone is american rock singer and songwriter known for his work as lead vocalist of extreme and for his short stint for van halen did gary cherone sing well yes gary cherone is also known for his work as lead vocalist of boston rock group extreme what significant fact can you tell me about gary cherone that you liked i like that gary cherone remained in contact and on good terms with van halen what did gary cherone do after van halen after his departure from van halen gary cherone returned to boston and put together new project tribe of judah did they release any albums after gary cherone left after gary cherone eddie van halen recovered from his hip surgery in november 1999 and no official statements were made by van halen and no music was released',\n",
       " 'f1_answer': 'during that era single taken from 1988s ou812 when its love reached top five peaking at no 5 in addition van halen was nominated for two grammy awards',\n",
       " 'passage': '1986 van halen album 5150 was huge hit becoming bands first no 1 album on billboard charts driven by keyboarddominated singles why cant this be love 3 us dreams and love walks in top 30 us to further introduce new era for band new van halen logo was put on cover new logo retained elements of original but now lines extending from either side of vh wrapped around and formed ring following release of 5150 album 5150 tour tour was launched to support it across north america footage was released on vhs and dvd as live without net in band minimized use of prehagar van halen songs in set 44 other than bands best known classics this was trend that continued with expanding repertoire of hagarera songs slowly whittling away at number of rothera songs on set list all four studio albums produced during this period reached no 1 on billboard pop music charts and 17 singles breached top 12 of mainstream rock tracks chart during that era single taken from 1988s ou812 when its love reached top five peaking at no 5 in addition van halen was nominated for two grammy awards band won 1992 grammy award for best hard rock performance with vocal for album for unlawful carnal knowledge 45 van halen continued to enjoy success throughout mid1990s in 1995 van halen released album balance and supported bon jovi on their european summer stadium tour they also made live album called live right here right now',\n",
       " 'question': 'what are some other interesting aspects of article',\n",
       " 'rewrite': 'what are some other interesting aspects of article',\n",
       " 'url': 'https://en.wikipedia.org/wiki/Van_Halen'}"
      ]
     },
     "execution_count": 17,
     "metadata": {},
     "output_type": "execute_result"
    }
   ],
   "source": [
    "qrecc[0]"
   ]
  },
  {
   "cell_type": "code",
   "execution_count": null,
   "metadata": {
    "id": "ahB-4o71IoE2"
   },
   "outputs": [],
   "source": []
  },
  {
   "cell_type": "code",
   "execution_count": null,
   "metadata": {
    "id": "aGRpf6y_aO-w"
   },
   "outputs": [],
   "source": [
    "with open('qrecc_train.json', 'a') as f:\n",
    "  json.dump(qrecc, f)\n",
    "\n",
    "with open('qrecc_test.json', 'a') as f:\n",
    "  json.dump(qrecc_test, f)"
   ]
  },
  {
   "cell_type": "code",
   "execution_count": null,
   "metadata": {
    "colab": {
     "base_uri": "https://localhost:8080/"
    },
    "id": "ji7GB4pUgQpo",
    "outputId": "bfbcedd8-948d-4175-ca60-9b704d92332e"
   },
   "outputs": [
    {
     "data": {
      "text/plain": [
       "24037"
      ]
     },
     "execution_count": 13,
     "metadata": {},
     "output_type": "execute_result"
    }
   ],
   "source": [
    "len(qrecc)"
   ]
  },
  {
   "cell_type": "code",
   "execution_count": null,
   "metadata": {
    "colab": {
     "base_uri": "https://localhost:8080/"
    },
    "id": "1OuDmpBSRFwi",
    "outputId": "ab1695d6-e638-40bf-c7de-cf56e990cf2a"
   },
   "outputs": [
    {
     "name": "stdout",
     "output_type": "stream",
     "text": [
      "8726\n"
     ]
    }
   ],
   "source": [
    "count = 0\n",
    "\n",
    "for i in range(len(qrecc)):\n",
    "  if qrecc[i]['answer'] == 'no_ans':\n",
    "    count += 1\n",
    "\n",
    "print(count)"
   ]
  },
  {
   "cell_type": "code",
   "execution_count": null,
   "metadata": {
    "id": "eEa6hiEeRT2w"
   },
   "outputs": [],
   "source": []
  }
 ],
 "metadata": {
  "colab": {
   "collapsed_sections": [],
   "machine_shape": "hm",
   "name": "QReCC_Preprocessing.ipynb",
   "provenance": []
  },
  "kernelspec": {
   "display_name": "Python 3 (ipykernel)",
   "language": "python",
   "name": "python3"
  },
  "language_info": {
   "codemirror_mode": {
    "name": "ipython",
    "version": 3
   },
   "file_extension": ".py",
   "mimetype": "text/x-python",
   "name": "python",
   "nbconvert_exporter": "python",
   "pygments_lexer": "ipython3",
   "version": "3.9.7"
  }
 },
 "nbformat": 4,
 "nbformat_minor": 1
}
